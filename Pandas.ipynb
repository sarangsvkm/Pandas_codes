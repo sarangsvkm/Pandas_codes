{
 "cells": [
  {
   "cell_type": "code",
   "execution_count": 1,
   "id": "22beef85",
   "metadata": {},
   "outputs": [],
   "source": [
    "from pandas import Series\n",
    "se=Series([1,6,3,7,78,56])"
   ]
  },
  {
   "cell_type": "code",
   "execution_count": 2,
   "id": "d5fc8a6f",
   "metadata": {},
   "outputs": [
    {
     "data": {
      "text/plain": [
       "0     1\n",
       "1     6\n",
       "2     3\n",
       "3     7\n",
       "4    78\n",
       "5    56\n",
       "dtype: int64"
      ]
     },
     "execution_count": 2,
     "metadata": {},
     "output_type": "execute_result"
    }
   ],
   "source": [
    "se"
   ]
  },
  {
   "cell_type": "code",
   "execution_count": 3,
   "id": "7f0c3c1c",
   "metadata": {},
   "outputs": [
    {
     "data": {
      "text/plain": [
       "3"
      ]
     },
     "execution_count": 3,
     "metadata": {},
     "output_type": "execute_result"
    }
   ],
   "source": [
    "se[2]\n"
   ]
  },
  {
   "cell_type": "code",
   "execution_count": 4,
   "id": "cb0815af-d6f8-471a-8163-783d010c8b61",
   "metadata": {},
   "outputs": [
    {
     "data": {
      "text/plain": [
       "a    200\n",
       "b    866\n",
       "c    785\n",
       "d    632\n",
       "dtype: int64"
      ]
     },
     "execution_count": 4,
     "metadata": {},
     "output_type": "execute_result"
    }
   ],
   "source": [
    "se2=Series([200,866,785,632],index=['a','b',\"c\",\"d\"])\n",
    "se2"
   ]
  },
  {
   "cell_type": "code",
   "execution_count": 5,
   "id": "72a669e1-85b0-44d5-b7a6-9183b38d3b51",
   "metadata": {},
   "outputs": [
    {
     "data": {
      "text/plain": [
       "785"
      ]
     },
     "execution_count": 5,
     "metadata": {},
     "output_type": "execute_result"
    }
   ],
   "source": [
    "se2['c']"
   ]
  },
  {
   "cell_type": "code",
   "execution_count": 6,
   "id": "e2743e6b-c6e1-4311-b28b-96ec356a0a4a",
   "metadata": {},
   "outputs": [
    {
     "data": {
      "text/plain": [
       "{'sarang': 25000, 'john': 4500, 'been': 8956}"
      ]
     },
     "execution_count": 6,
     "metadata": {},
     "output_type": "execute_result"
    }
   ],
   "source": [
    "salary={'sarang':25000,'john':4500,\"been\":8956}\n",
    "salary"
   ]
  },
  {
   "cell_type": "code",
   "execution_count": 7,
   "id": "733754e9-31aa-46ab-8046-6d9d19a1c048",
   "metadata": {},
   "outputs": [],
   "source": [
    "se3=Series(salary)"
   ]
  },
  {
   "cell_type": "code",
   "execution_count": 8,
   "id": "30d91fe3-6f6b-48a7-bcf7-5126e550e317",
   "metadata": {},
   "outputs": [
    {
     "data": {
      "text/plain": [
       "sarang    25000\n",
       "john       4500\n",
       "been       8956\n",
       "dtype: int64"
      ]
     },
     "execution_count": 8,
     "metadata": {},
     "output_type": "execute_result"
    }
   ],
   "source": [
    "se3"
   ]
  },
  {
   "cell_type": "code",
   "execution_count": null,
   "id": "21ddd3c6-e712-4066-b9d6-d926d3e717b5",
   "metadata": {},
   "outputs": [],
   "source": []
  },
  {
   "cell_type": "code",
   "execution_count": null,
   "id": "1a0487fb-90ea-4d2f-891d-db12efc30fb3",
   "metadata": {},
   "outputs": [],
   "source": []
  }
 ],
 "metadata": {
  "kernelspec": {
   "display_name": "Python 3 (ipykernel)",
   "language": "python",
   "name": "python3"
  },
  "language_info": {
   "codemirror_mode": {
    "name": "ipython",
    "version": 3
   },
   "file_extension": ".py",
   "mimetype": "text/x-python",
   "name": "python",
   "nbconvert_exporter": "python",
   "pygments_lexer": "ipython3",
   "version": "3.9.13"
  }
 },
 "nbformat": 4,
 "nbformat_minor": 5
}
